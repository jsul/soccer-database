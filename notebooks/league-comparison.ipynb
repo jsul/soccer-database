{
 "cells": [
  {
   "cell_type": "markdown",
   "metadata": {},
   "source": [
    "# Exploratory Analysis of European Soccer Leagues\n",
    "## Table of Contents\n",
    "<ul>\n",
    "<li><a href=\"#intro\">Introduction</a></li>\n",
    "<li><a href=\"#wrangling\">Data Wrangling</a></li>\n",
    "<li><a href=\"#eda\">Exploratory Data Analysis</a></li>\n",
    "<li><a href=\"#conclusions\">Conclusions</a></li>\n",
    "</ul>"
   ]
  },
  {
   "cell_type": "markdown",
   "metadata": {},
   "source": [
    "<a id='intro'></a>\n",
    "## Introduction\n",
    "\n",
    "In this project, we will be looking at football (soccer in the US) data collected from various European leagues from 2008 to 2016. The original source of this data can be found on [Kaggle](https://www.kaggle.com/hugomathien/soccer). However, I have only take relevant match information from the database via a DB Browser. Here is a data dictionary for the data pulled from the database:\n",
    "\n",
    "- `match_id`: id for match from original source\n",
    "- `country`: country of the match\n",
    "- `league`: league the match is a part of\n",
    "- `season`: particular season the match took place in\n",
    "- `match_date`: date match took place\n",
    "- `home_team_id`: id of home team from original source\n",
    "- `home_team_name`: full name of home team\n",
    "- `home_team_short_name`: short name of home team\n",
    "- `home_goal`: number of goals scored by the home team\n",
    "- `away_goal`: number of goals scored by the away team\n",
    "- `away_team_id`: id of away team from original source\n",
    "- `away_team_name`: full name of away team\n",
    "- `away_team_short_name`: short name of away team\n",
    "\n",
    "The purpose of this analysis is to compare how the different european leagues compare with respect to the amount of goals scored per match. The questions we will look to answer include:\n",
    "- Which league scored the most goals per game? \n",
    "- Has the proportion of scoreless draws changed over the given time period?\n",
    "\n",
    "Let's start by importing the relevant packages and data."
   ]
  },
  {
   "cell_type": "code",
   "execution_count": 1,
   "metadata": {},
   "outputs": [],
   "source": [
    "# import packages\n",
    "import pandas as pd\n",
    "import numpy as np\n",
    "import matplotlib.pyplot as plt\n",
    "import seaborn as sns\n",
    "%matplotlib inline\n",
    "\n",
    "# read in dataset\n",
    "df = pd.read_csv('../data/match-data.csv')"
   ]
  },
  {
   "cell_type": "markdown",
   "metadata": {},
   "source": [
    "<a id='wrangling'></a>\n",
    "## Data Wrangling\n",
    "\n",
    "### General Properties\n",
    "Let's get a feel for the data and see if there are any missing values or issues with data types"
   ]
  },
  {
   "cell_type": "code",
   "execution_count": 2,
   "metadata": {},
   "outputs": [
    {
     "data": {
      "text/html": [
       "<div>\n",
       "<style scoped>\n",
       "    .dataframe tbody tr th:only-of-type {\n",
       "        vertical-align: middle;\n",
       "    }\n",
       "\n",
       "    .dataframe tbody tr th {\n",
       "        vertical-align: top;\n",
       "    }\n",
       "\n",
       "    .dataframe thead th {\n",
       "        text-align: right;\n",
       "    }\n",
       "</style>\n",
       "<table border=\"1\" class=\"dataframe\">\n",
       "  <thead>\n",
       "    <tr style=\"text-align: right;\">\n",
       "      <th></th>\n",
       "      <th>match_id</th>\n",
       "      <th>country</th>\n",
       "      <th>league</th>\n",
       "      <th>season</th>\n",
       "      <th>match_date</th>\n",
       "      <th>home_team_id</th>\n",
       "      <th>home_team_name</th>\n",
       "      <th>home_team_short_name</th>\n",
       "      <th>home_goal</th>\n",
       "      <th>away_goal</th>\n",
       "      <th>away_team_id</th>\n",
       "      <th>away_team_name</th>\n",
       "      <th>away_team_short_name</th>\n",
       "    </tr>\n",
       "  </thead>\n",
       "  <tbody>\n",
       "    <tr>\n",
       "      <th>16199</th>\n",
       "      <td>673826</td>\n",
       "      <td>Poland</td>\n",
       "      <td>Poland Ekstraklasa</td>\n",
       "      <td>2009/2010</td>\n",
       "      <td>2009-10-03 00:00:00</td>\n",
       "      <td>8242</td>\n",
       "      <td>Odra Wodzisław</td>\n",
       "      <td>ODR</td>\n",
       "      <td>1</td>\n",
       "      <td>3</td>\n",
       "      <td>1601</td>\n",
       "      <td>Ruch Chorzów</td>\n",
       "      <td>CHO</td>\n",
       "    </tr>\n",
       "    <tr>\n",
       "      <th>7403</th>\n",
       "      <td>1709762</td>\n",
       "      <td>France</td>\n",
       "      <td>France Ligue 1</td>\n",
       "      <td>2014/2015</td>\n",
       "      <td>2014-09-24 00:00:00</td>\n",
       "      <td>10249</td>\n",
       "      <td>Montpellier Hérault SC</td>\n",
       "      <td>MON</td>\n",
       "      <td>0</td>\n",
       "      <td>1</td>\n",
       "      <td>9829</td>\n",
       "      <td>AS Monaco</td>\n",
       "      <td>MON</td>\n",
       "    </tr>\n",
       "    <tr>\n",
       "      <th>10811</th>\n",
       "      <td>705195</td>\n",
       "      <td>Italy</td>\n",
       "      <td>Italy Serie A</td>\n",
       "      <td>2009/2010</td>\n",
       "      <td>2010-02-21 00:00:00</td>\n",
       "      <td>9976</td>\n",
       "      <td>Bari</td>\n",
       "      <td>BAR</td>\n",
       "      <td>0</td>\n",
       "      <td>2</td>\n",
       "      <td>8564</td>\n",
       "      <td>Milan</td>\n",
       "      <td>ACM</td>\n",
       "    </tr>\n",
       "    <tr>\n",
       "      <th>1318</th>\n",
       "      <td>1717951</td>\n",
       "      <td>Belgium</td>\n",
       "      <td>Belgium Jupiler League</td>\n",
       "      <td>2014/2015</td>\n",
       "      <td>2014-11-29 00:00:00</td>\n",
       "      <td>8475</td>\n",
       "      <td>Waasland-Beveren</td>\n",
       "      <td>WAA</td>\n",
       "      <td>2</td>\n",
       "      <td>1</td>\n",
       "      <td>274581</td>\n",
       "      <td>Royal Excel Mouscron</td>\n",
       "      <td>MOP</td>\n",
       "    </tr>\n",
       "    <tr>\n",
       "      <th>19684</th>\n",
       "      <td>2015881</td>\n",
       "      <td>Portugal</td>\n",
       "      <td>Portugal Liga ZON Sagres</td>\n",
       "      <td>2015/2016</td>\n",
       "      <td>2015-11-01 00:00:00</td>\n",
       "      <td>10215</td>\n",
       "      <td>Académica de Coimbra</td>\n",
       "      <td>ACA</td>\n",
       "      <td>1</td>\n",
       "      <td>1</td>\n",
       "      <td>8348</td>\n",
       "      <td>Moreirense FC</td>\n",
       "      <td>MOR</td>\n",
       "    </tr>\n",
       "    <tr>\n",
       "      <th>4061</th>\n",
       "      <td>1724115</td>\n",
       "      <td>England</td>\n",
       "      <td>England Premier League</td>\n",
       "      <td>2014/2015</td>\n",
       "      <td>2014-12-02 00:00:00</td>\n",
       "      <td>10260</td>\n",
       "      <td>Manchester United</td>\n",
       "      <td>MUN</td>\n",
       "      <td>2</td>\n",
       "      <td>1</td>\n",
       "      <td>10194</td>\n",
       "      <td>Stoke City</td>\n",
       "      <td>STK</td>\n",
       "    </tr>\n",
       "    <tr>\n",
       "      <th>11773</th>\n",
       "      <td>1287066</td>\n",
       "      <td>Italy</td>\n",
       "      <td>Italy Serie A</td>\n",
       "      <td>2012/2013</td>\n",
       "      <td>2012-10-31 00:00:00</td>\n",
       "      <td>8600</td>\n",
       "      <td>Udinese</td>\n",
       "      <td>UDI</td>\n",
       "      <td>2</td>\n",
       "      <td>2</td>\n",
       "      <td>8530</td>\n",
       "      <td>Catania</td>\n",
       "      <td>CAT</td>\n",
       "    </tr>\n",
       "    <tr>\n",
       "      <th>17919</th>\n",
       "      <td>686296</td>\n",
       "      <td>Portugal</td>\n",
       "      <td>Portugal Liga ZON Sagres</td>\n",
       "      <td>2009/2010</td>\n",
       "      <td>2009-12-13 00:00:00</td>\n",
       "      <td>10212</td>\n",
       "      <td>CS Marítimo</td>\n",
       "      <td>MAR</td>\n",
       "      <td>0</td>\n",
       "      <td>1</td>\n",
       "      <td>7841</td>\n",
       "      <td>Rio Ave FC</td>\n",
       "      <td>RA</td>\n",
       "    </tr>\n",
       "    <tr>\n",
       "      <th>670</th>\n",
       "      <td>838819</td>\n",
       "      <td>Belgium</td>\n",
       "      <td>Belgium Jupiler League</td>\n",
       "      <td>2010/2011</td>\n",
       "      <td>2011-02-19 00:00:00</td>\n",
       "      <td>9987</td>\n",
       "      <td>KRC Genk</td>\n",
       "      <td>GEN</td>\n",
       "      <td>1</td>\n",
       "      <td>0</td>\n",
       "      <td>8203</td>\n",
       "      <td>KV Mechelen</td>\n",
       "      <td>MEC</td>\n",
       "    </tr>\n",
       "    <tr>\n",
       "      <th>22246</th>\n",
       "      <td>684674</td>\n",
       "      <td>Spain</td>\n",
       "      <td>Spain LIGA BBVA</td>\n",
       "      <td>2009/2010</td>\n",
       "      <td>2009-10-03 00:00:00</td>\n",
       "      <td>8634</td>\n",
       "      <td>FC Barcelona</td>\n",
       "      <td>BAR</td>\n",
       "      <td>1</td>\n",
       "      <td>0</td>\n",
       "      <td>9865</td>\n",
       "      <td>UD Almería</td>\n",
       "      <td>ALM</td>\n",
       "    </tr>\n",
       "  </tbody>\n",
       "</table>\n",
       "</div>"
      ],
      "text/plain": [
       "       match_id   country                    league     season  \\\n",
       "16199    673826    Poland        Poland Ekstraklasa  2009/2010   \n",
       "7403    1709762    France            France Ligue 1  2014/2015   \n",
       "10811    705195     Italy             Italy Serie A  2009/2010   \n",
       "1318    1717951   Belgium    Belgium Jupiler League  2014/2015   \n",
       "19684   2015881  Portugal  Portugal Liga ZON Sagres  2015/2016   \n",
       "4061    1724115   England    England Premier League  2014/2015   \n",
       "11773   1287066     Italy             Italy Serie A  2012/2013   \n",
       "17919    686296  Portugal  Portugal Liga ZON Sagres  2009/2010   \n",
       "670      838819   Belgium    Belgium Jupiler League  2010/2011   \n",
       "22246    684674     Spain           Spain LIGA BBVA  2009/2010   \n",
       "\n",
       "                match_date  home_team_id          home_team_name  \\\n",
       "16199  2009-10-03 00:00:00          8242          Odra Wodzisław   \n",
       "7403   2014-09-24 00:00:00         10249  Montpellier Hérault SC   \n",
       "10811  2010-02-21 00:00:00          9976                    Bari   \n",
       "1318   2014-11-29 00:00:00          8475        Waasland-Beveren   \n",
       "19684  2015-11-01 00:00:00         10215    Académica de Coimbra   \n",
       "4061   2014-12-02 00:00:00         10260       Manchester United   \n",
       "11773  2012-10-31 00:00:00          8600                 Udinese   \n",
       "17919  2009-12-13 00:00:00         10212             CS Marítimo   \n",
       "670    2011-02-19 00:00:00          9987                KRC Genk   \n",
       "22246  2009-10-03 00:00:00          8634            FC Barcelona   \n",
       "\n",
       "      home_team_short_name  home_goal  away_goal  away_team_id  \\\n",
       "16199                  ODR          1          3          1601   \n",
       "7403                   MON          0          1          9829   \n",
       "10811                  BAR          0          2          8564   \n",
       "1318                   WAA          2          1        274581   \n",
       "19684                  ACA          1          1          8348   \n",
       "4061                   MUN          2          1         10194   \n",
       "11773                  UDI          2          2          8530   \n",
       "17919                  MAR          0          1          7841   \n",
       "670                    GEN          1          0          8203   \n",
       "22246                  BAR          1          0          9865   \n",
       "\n",
       "             away_team_name away_team_short_name  \n",
       "16199          Ruch Chorzów                  CHO  \n",
       "7403              AS Monaco                  MON  \n",
       "10811                 Milan                  ACM  \n",
       "1318   Royal Excel Mouscron                  MOP  \n",
       "19684         Moreirense FC                  MOR  \n",
       "4061             Stoke City                  STK  \n",
       "11773               Catania                  CAT  \n",
       "17919            Rio Ave FC                   RA  \n",
       "670             KV Mechelen                  MEC  \n",
       "22246            UD Almería                  ALM  "
      ]
     },
     "execution_count": 2,
     "metadata": {},
     "output_type": "execute_result"
    }
   ],
   "source": [
    "# take a sample of rows from the data for quick visual inspection\n",
    "df.sample(10)"
   ]
  },
  {
   "cell_type": "code",
   "execution_count": 3,
   "metadata": {},
   "outputs": [
    {
     "name": "stdout",
     "output_type": "stream",
     "text": [
      "<class 'pandas.core.frame.DataFrame'>\n",
      "RangeIndex: 25979 entries, 0 to 25978\n",
      "Data columns (total 13 columns):\n",
      " #   Column                Non-Null Count  Dtype \n",
      "---  ------                --------------  ----- \n",
      " 0   match_id              25979 non-null  int64 \n",
      " 1   country               25979 non-null  object\n",
      " 2   league                25979 non-null  object\n",
      " 3   season                25979 non-null  object\n",
      " 4   match_date            25979 non-null  object\n",
      " 5   home_team_id          25979 non-null  int64 \n",
      " 6   home_team_name        25979 non-null  object\n",
      " 7   home_team_short_name  25979 non-null  object\n",
      " 8   home_goal             25979 non-null  int64 \n",
      " 9   away_goal             25979 non-null  int64 \n",
      " 10  away_team_id          25979 non-null  int64 \n",
      " 11  away_team_name        25979 non-null  object\n",
      " 12  away_team_short_name  25979 non-null  object\n",
      "dtypes: int64(5), object(8)\n",
      "memory usage: 2.6+ MB\n"
     ]
    }
   ],
   "source": [
    "# take a look at data types and missing values\n",
    "df.info()"
   ]
  },
  {
   "cell_type": "markdown",
   "metadata": {},
   "source": [
    "Wow, this dataset looks pretty clean and there didn't seem to be any suspect data in the sample of the data. The only issue with data type is that `match_date` should be changed to a datetime. In addition, in order to answer our questions, new columns will need to be added.\n",
    "\n",
    "Let's investigate the `country`, `league` and `season` columns to see if their values make sense."
   ]
  },
  {
   "cell_type": "code",
   "execution_count": 4,
   "metadata": {},
   "outputs": [
    {
     "name": "stdout",
     "output_type": "stream",
     "text": [
      "1   Belgium\n",
      "2   England\n",
      "3   France\n",
      "4   Germany\n",
      "5   Italy\n",
      "6   Netherlands\n",
      "7   Poland\n",
      "8   Portugal\n",
      "9   Scotland\n",
      "10   Spain\n",
      "11   Switzerland\n"
     ]
    }
   ],
   "source": [
    "# find unique countries in data\n",
    "for i, country in enumerate(df['country'].unique()):\n",
    "    print(i + 1,\" \", country)"
   ]
  },
  {
   "cell_type": "code",
   "execution_count": 5,
   "metadata": {},
   "outputs": [
    {
     "name": "stdout",
     "output_type": "stream",
     "text": [
      "1   Belgium Jupiler League\n",
      "2   England Premier League\n",
      "3   France Ligue 1\n",
      "4   Germany 1. Bundesliga\n",
      "5   Italy Serie A\n",
      "6   Netherlands Eredivisie\n",
      "7   Poland Ekstraklasa\n",
      "8   Portugal Liga ZON Sagres\n",
      "9   Scotland Premier League\n",
      "10   Spain LIGA BBVA\n",
      "11   Switzerland Super League\n"
     ]
    }
   ],
   "source": [
    "# find unique leagues in data\n",
    "for i, league in enumerate(df['league'].unique()):\n",
    "    print(i + 1, \" \", league)"
   ]
  },
  {
   "cell_type": "code",
   "execution_count": 6,
   "metadata": {},
   "outputs": [
    {
     "name": "stdout",
     "output_type": "stream",
     "text": [
      "1   2008/2009\n",
      "2   2009/2010\n",
      "3   2010/2011\n",
      "4   2011/2012\n",
      "5   2012/2013\n",
      "6   2013/2014\n",
      "7   2014/2015\n",
      "8   2015/2016\n"
     ]
    }
   ],
   "source": [
    "# find unique seasons in data\n",
    "for i, season in enumerate(df['season'].unique()):\n",
    "    print(i + 1, \" \", season)"
   ]
  },
  {
   "cell_type": "markdown",
   "metadata": {},
   "source": [
    "All the values in the columns look good. We have 11 countries to go along with 11 leagues and our matches span the correct time period."
   ]
  },
  {
   "cell_type": "markdown",
   "metadata": {},
   "source": [
    "Now, let's take a look at the numeric columns `home_goal` and `away_goal` to see if there are any issues with data quality."
   ]
  },
  {
   "cell_type": "code",
   "execution_count": 7,
   "metadata": {},
   "outputs": [
    {
     "data": {
      "text/html": [
       "<div>\n",
       "<style scoped>\n",
       "    .dataframe tbody tr th:only-of-type {\n",
       "        vertical-align: middle;\n",
       "    }\n",
       "\n",
       "    .dataframe tbody tr th {\n",
       "        vertical-align: top;\n",
       "    }\n",
       "\n",
       "    .dataframe thead th {\n",
       "        text-align: right;\n",
       "    }\n",
       "</style>\n",
       "<table border=\"1\" class=\"dataframe\">\n",
       "  <thead>\n",
       "    <tr style=\"text-align: right;\">\n",
       "      <th></th>\n",
       "      <th>home_goal</th>\n",
       "      <th>away_goal</th>\n",
       "    </tr>\n",
       "  </thead>\n",
       "  <tbody>\n",
       "    <tr>\n",
       "      <th>count</th>\n",
       "      <td>25979.000000</td>\n",
       "      <td>25979.000000</td>\n",
       "    </tr>\n",
       "    <tr>\n",
       "      <th>mean</th>\n",
       "      <td>1.544594</td>\n",
       "      <td>1.160938</td>\n",
       "    </tr>\n",
       "    <tr>\n",
       "      <th>std</th>\n",
       "      <td>1.297158</td>\n",
       "      <td>1.142110</td>\n",
       "    </tr>\n",
       "    <tr>\n",
       "      <th>min</th>\n",
       "      <td>0.000000</td>\n",
       "      <td>0.000000</td>\n",
       "    </tr>\n",
       "    <tr>\n",
       "      <th>25%</th>\n",
       "      <td>1.000000</td>\n",
       "      <td>0.000000</td>\n",
       "    </tr>\n",
       "    <tr>\n",
       "      <th>50%</th>\n",
       "      <td>1.000000</td>\n",
       "      <td>1.000000</td>\n",
       "    </tr>\n",
       "    <tr>\n",
       "      <th>75%</th>\n",
       "      <td>2.000000</td>\n",
       "      <td>2.000000</td>\n",
       "    </tr>\n",
       "    <tr>\n",
       "      <th>max</th>\n",
       "      <td>10.000000</td>\n",
       "      <td>9.000000</td>\n",
       "    </tr>\n",
       "  </tbody>\n",
       "</table>\n",
       "</div>"
      ],
      "text/plain": [
       "          home_goal     away_goal\n",
       "count  25979.000000  25979.000000\n",
       "mean       1.544594      1.160938\n",
       "std        1.297158      1.142110\n",
       "min        0.000000      0.000000\n",
       "25%        1.000000      0.000000\n",
       "50%        1.000000      1.000000\n",
       "75%        2.000000      2.000000\n",
       "max       10.000000      9.000000"
      ]
     },
     "execution_count": 7,
     "metadata": {},
     "output_type": "execute_result"
    }
   ],
   "source": [
    "# print summary statistics for home and away goals scored\n",
    "df[['home_goal', 'away_goal']].describe()"
   ]
  },
  {
   "cell_type": "markdown",
   "metadata": {},
   "source": [
    "The maximum values of each column are really high, let's investigate those matches to see if the values are legitimite."
   ]
  },
  {
   "cell_type": "code",
   "execution_count": 8,
   "metadata": {},
   "outputs": [
    {
     "data": {
      "text/html": [
       "<div>\n",
       "<style scoped>\n",
       "    .dataframe tbody tr th:only-of-type {\n",
       "        vertical-align: middle;\n",
       "    }\n",
       "\n",
       "    .dataframe tbody tr th {\n",
       "        vertical-align: top;\n",
       "    }\n",
       "\n",
       "    .dataframe thead th {\n",
       "        text-align: right;\n",
       "    }\n",
       "</style>\n",
       "<table border=\"1\" class=\"dataframe\">\n",
       "  <thead>\n",
       "    <tr style=\"text-align: right;\">\n",
       "      <th></th>\n",
       "      <th>match_id</th>\n",
       "      <th>country</th>\n",
       "      <th>league</th>\n",
       "      <th>season</th>\n",
       "      <th>match_date</th>\n",
       "      <th>home_team_id</th>\n",
       "      <th>home_team_name</th>\n",
       "      <th>home_team_short_name</th>\n",
       "      <th>home_goal</th>\n",
       "      <th>away_goal</th>\n",
       "      <th>away_team_id</th>\n",
       "      <th>away_team_name</th>\n",
       "      <th>away_team_short_name</th>\n",
       "    </tr>\n",
       "  </thead>\n",
       "  <tbody>\n",
       "    <tr>\n",
       "      <th>13898</th>\n",
       "      <td>836306</td>\n",
       "      <td>Netherlands</td>\n",
       "      <td>Netherlands Eredivisie</td>\n",
       "      <td>2010/2011</td>\n",
       "      <td>2010-10-24 00:00:00</td>\n",
       "      <td>8640</td>\n",
       "      <td>PSV</td>\n",
       "      <td>PSV</td>\n",
       "      <td>10</td>\n",
       "      <td>0</td>\n",
       "      <td>10235</td>\n",
       "      <td>Feyenoord</td>\n",
       "      <td>FEY</td>\n",
       "    </tr>\n",
       "    <tr>\n",
       "      <th>24247</th>\n",
       "      <td>2030233</td>\n",
       "      <td>Spain</td>\n",
       "      <td>Spain LIGA BBVA</td>\n",
       "      <td>2015/2016</td>\n",
       "      <td>2015-12-20 00:00:00</td>\n",
       "      <td>8633</td>\n",
       "      <td>Real Madrid CF</td>\n",
       "      <td>REA</td>\n",
       "      <td>10</td>\n",
       "      <td>2</td>\n",
       "      <td>8370</td>\n",
       "      <td>Rayo Vallecano</td>\n",
       "      <td>RAY</td>\n",
       "    </tr>\n",
       "  </tbody>\n",
       "</table>\n",
       "</div>"
      ],
      "text/plain": [
       "       match_id      country                  league     season  \\\n",
       "13898    836306  Netherlands  Netherlands Eredivisie  2010/2011   \n",
       "24247   2030233        Spain         Spain LIGA BBVA  2015/2016   \n",
       "\n",
       "                match_date  home_team_id  home_team_name home_team_short_name  \\\n",
       "13898  2010-10-24 00:00:00          8640             PSV                  PSV   \n",
       "24247  2015-12-20 00:00:00          8633  Real Madrid CF                  REA   \n",
       "\n",
       "       home_goal  away_goal  away_team_id  away_team_name away_team_short_name  \n",
       "13898         10          0         10235       Feyenoord                  FEY  \n",
       "24247         10          2          8370  Rayo Vallecano                  RAY  "
      ]
     },
     "execution_count": 8,
     "metadata": {},
     "output_type": "execute_result"
    }
   ],
   "source": [
    "# find rows where home goals scored is equal to \n",
    "# the max home goals scored\n",
    "df[df['home_goal'] == df['home_goal'].max()]"
   ]
  },
  {
   "cell_type": "markdown",
   "metadata": {},
   "source": [
    "These results can be verified in the wikipedia articles for the [2010-11 Eredivisie season](https://en.wikipedia.org/wiki/2010%E2%80%9311_Eredivisie#Results) and the [2015-16 La Liga season](https://en.wikipedia.org/wiki/2015%E2%80%9316_La_Liga#Results)."
   ]
  },
  {
   "cell_type": "markdown",
   "metadata": {},
   "source": [
    "Just to be sure, let's take a look at the rows that contain the maximum value of the `away_goal` column."
   ]
  },
  {
   "cell_type": "code",
   "execution_count": 9,
   "metadata": {},
   "outputs": [
    {
     "data": {
      "text/html": [
       "<div>\n",
       "<style scoped>\n",
       "    .dataframe tbody tr th:only-of-type {\n",
       "        vertical-align: middle;\n",
       "    }\n",
       "\n",
       "    .dataframe tbody tr th {\n",
       "        vertical-align: top;\n",
       "    }\n",
       "\n",
       "    .dataframe thead th {\n",
       "        text-align: right;\n",
       "    }\n",
       "</style>\n",
       "<table border=\"1\" class=\"dataframe\">\n",
       "  <thead>\n",
       "    <tr style=\"text-align: right;\">\n",
       "      <th></th>\n",
       "      <th>match_id</th>\n",
       "      <th>country</th>\n",
       "      <th>league</th>\n",
       "      <th>season</th>\n",
       "      <th>match_date</th>\n",
       "      <th>home_team_id</th>\n",
       "      <th>home_team_name</th>\n",
       "      <th>home_team_short_name</th>\n",
       "      <th>home_goal</th>\n",
       "      <th>away_goal</th>\n",
       "      <th>away_team_id</th>\n",
       "      <th>away_team_name</th>\n",
       "      <th>away_team_short_name</th>\n",
       "    </tr>\n",
       "  </thead>\n",
       "  <tbody>\n",
       "    <tr>\n",
       "      <th>7660</th>\n",
       "      <td>1990022</td>\n",
       "      <td>France</td>\n",
       "      <td>France Ligue 1</td>\n",
       "      <td>2015/2016</td>\n",
       "      <td>2016-03-13 00:00:00</td>\n",
       "      <td>10242</td>\n",
       "      <td>ES Troyes AC</td>\n",
       "      <td>TRO</td>\n",
       "      <td>0</td>\n",
       "      <td>9</td>\n",
       "      <td>9847</td>\n",
       "      <td>Paris Saint-Germain</td>\n",
       "      <td>PSG</td>\n",
       "    </tr>\n",
       "  </tbody>\n",
       "</table>\n",
       "</div>"
      ],
      "text/plain": [
       "      match_id country          league     season           match_date  \\\n",
       "7660   1990022  France  France Ligue 1  2015/2016  2016-03-13 00:00:00   \n",
       "\n",
       "      home_team_id home_team_name home_team_short_name  home_goal  away_goal  \\\n",
       "7660         10242   ES Troyes AC                  TRO          0          9   \n",
       "\n",
       "      away_team_id       away_team_name away_team_short_name  \n",
       "7660          9847  Paris Saint-Germain                  PSG  "
      ]
     },
     "execution_count": 9,
     "metadata": {},
     "output_type": "execute_result"
    }
   ],
   "source": [
    "# find rows where away goals scored is equal to\n",
    "# the max away goals scored\n",
    "df[df['away_goal'] == df['away_goal'].max()]"
   ]
  },
  {
   "cell_type": "markdown",
   "metadata": {},
   "source": [
    "Again, this result can be verified in the wikipedia article for the [2015-16 Ligue 1 season](https://en.wikipedia.org/wiki/2015%E2%80%9316_Ligue_1#Results)."
   ]
  },
  {
   "cell_type": "markdown",
   "metadata": {},
   "source": [
    "The quality of this data is pristine, let's move on to cleaning the data. "
   ]
  },
  {
   "cell_type": "markdown",
   "metadata": {},
   "source": [
    "### Data Cleaning"
   ]
  },
  {
   "cell_type": "markdown",
   "metadata": {
    "collapsed": true
   },
   "source": [
    "In this step, we will:\n",
    "- change `match_date` to a datetime\n",
    "- add the following columns:\n",
    "    - `result`:\n",
    "        - `home` if home team won\n",
    "        - `away` if away team won\n",
    "        - `draw` if the match was a draw\n",
    "    - `home_goal_difference`: home_goals - away_goals\n",
    "    - `away_goal_difference`: away_goals - home_goals\n",
    "    - `total_goals`: home_goals + away_goals\n",
    "    - `scoreless_draw`: boolean indicating if the match ended 0-0\n",
    "    \n",
    "We will first change the data type of the `match_date` column."
   ]
  },
  {
   "cell_type": "code",
   "execution_count": 10,
   "metadata": {},
   "outputs": [
    {
     "name": "stdout",
     "output_type": "stream",
     "text": [
      "<class 'pandas.core.frame.DataFrame'>\n",
      "RangeIndex: 25979 entries, 0 to 25978\n",
      "Data columns (total 13 columns):\n",
      " #   Column                Non-Null Count  Dtype         \n",
      "---  ------                --------------  -----         \n",
      " 0   match_id              25979 non-null  int64         \n",
      " 1   country               25979 non-null  object        \n",
      " 2   league                25979 non-null  object        \n",
      " 3   season                25979 non-null  object        \n",
      " 4   match_date            25979 non-null  datetime64[ns]\n",
      " 5   home_team_id          25979 non-null  int64         \n",
      " 6   home_team_name        25979 non-null  object        \n",
      " 7   home_team_short_name  25979 non-null  object        \n",
      " 8   home_goal             25979 non-null  int64         \n",
      " 9   away_goal             25979 non-null  int64         \n",
      " 10  away_team_id          25979 non-null  int64         \n",
      " 11  away_team_name        25979 non-null  object        \n",
      " 12  away_team_short_name  25979 non-null  object        \n",
      "dtypes: datetime64[ns](1), int64(5), object(7)\n",
      "memory usage: 2.6+ MB\n"
     ]
    }
   ],
   "source": [
    "# change match_date to a datetime object\n",
    "df['match_date'] = pd.to_datetime(df['match_date'])\n",
    "\n",
    "# verify the result\n",
    "df.info()"
   ]
  },
  {
   "cell_type": "markdown",
   "metadata": {},
   "source": [
    "Now, let's add some columns that will be used for analysis later."
   ]
  },
  {
   "cell_type": "code",
   "execution_count": 11,
   "metadata": {},
   "outputs": [],
   "source": [
    "# add result column\n",
    "df['result'] = np.nan\n",
    "df.loc[df['home_goal'] > df['away_goal'], 'result'] = 'home'\n",
    "df.loc[df['home_goal'] < df['away_goal'], 'result'] = 'away'\n",
    "df.loc[df['home_goal'] == df['away_goal'], 'result'] = 'draw'"
   ]
  },
  {
   "cell_type": "code",
   "execution_count": 12,
   "metadata": {},
   "outputs": [],
   "source": [
    "# add home_goal_difference\n",
    "df['home_goal_difference'] = df['home_goal'] - df['away_goal']"
   ]
  },
  {
   "cell_type": "code",
   "execution_count": 13,
   "metadata": {},
   "outputs": [],
   "source": [
    "# add away_goal_difference\n",
    "df['away_goal_difference'] = df['away_goal'] - df['home_goal']"
   ]
  },
  {
   "cell_type": "code",
   "execution_count": 14,
   "metadata": {},
   "outputs": [],
   "source": [
    "# add total_goals column\n",
    "df['total_goals'] = df['home_goal'] + df['away_goal']"
   ]
  },
  {
   "cell_type": "code",
   "execution_count": 15,
   "metadata": {},
   "outputs": [],
   "source": [
    "# add scoreless_draw column\n",
    "df['scoreless_draw'] = df['total_goals'] == 0"
   ]
  },
  {
   "cell_type": "code",
   "execution_count": 16,
   "metadata": {},
   "outputs": [
    {
     "data": {
      "text/html": [
       "<div>\n",
       "<style scoped>\n",
       "    .dataframe tbody tr th:only-of-type {\n",
       "        vertical-align: middle;\n",
       "    }\n",
       "\n",
       "    .dataframe tbody tr th {\n",
       "        vertical-align: top;\n",
       "    }\n",
       "\n",
       "    .dataframe thead th {\n",
       "        text-align: right;\n",
       "    }\n",
       "</style>\n",
       "<table border=\"1\" class=\"dataframe\">\n",
       "  <thead>\n",
       "    <tr style=\"text-align: right;\">\n",
       "      <th></th>\n",
       "      <th>match_id</th>\n",
       "      <th>country</th>\n",
       "      <th>league</th>\n",
       "      <th>season</th>\n",
       "      <th>match_date</th>\n",
       "      <th>home_team_id</th>\n",
       "      <th>home_team_name</th>\n",
       "      <th>home_team_short_name</th>\n",
       "      <th>home_goal</th>\n",
       "      <th>away_goal</th>\n",
       "      <th>away_team_id</th>\n",
       "      <th>away_team_name</th>\n",
       "      <th>away_team_short_name</th>\n",
       "      <th>result</th>\n",
       "      <th>home_goal_difference</th>\n",
       "      <th>away_goal_difference</th>\n",
       "      <th>total_goals</th>\n",
       "      <th>scoreless_draw</th>\n",
       "    </tr>\n",
       "  </thead>\n",
       "  <tbody>\n",
       "    <tr>\n",
       "      <th>0</th>\n",
       "      <td>492473</td>\n",
       "      <td>Belgium</td>\n",
       "      <td>Belgium Jupiler League</td>\n",
       "      <td>2008/2009</td>\n",
       "      <td>2008-08-17</td>\n",
       "      <td>9987</td>\n",
       "      <td>KRC Genk</td>\n",
       "      <td>GEN</td>\n",
       "      <td>1</td>\n",
       "      <td>1</td>\n",
       "      <td>9993</td>\n",
       "      <td>Beerschot AC</td>\n",
       "      <td>BAC</td>\n",
       "      <td>draw</td>\n",
       "      <td>0</td>\n",
       "      <td>0</td>\n",
       "      <td>2</td>\n",
       "      <td>False</td>\n",
       "    </tr>\n",
       "    <tr>\n",
       "      <th>1</th>\n",
       "      <td>492474</td>\n",
       "      <td>Belgium</td>\n",
       "      <td>Belgium Jupiler League</td>\n",
       "      <td>2008/2009</td>\n",
       "      <td>2008-08-16</td>\n",
       "      <td>10000</td>\n",
       "      <td>SV Zulte-Waregem</td>\n",
       "      <td>ZUL</td>\n",
       "      <td>0</td>\n",
       "      <td>0</td>\n",
       "      <td>9994</td>\n",
       "      <td>Sporting Lokeren</td>\n",
       "      <td>LOK</td>\n",
       "      <td>draw</td>\n",
       "      <td>0</td>\n",
       "      <td>0</td>\n",
       "      <td>0</td>\n",
       "      <td>True</td>\n",
       "    </tr>\n",
       "    <tr>\n",
       "      <th>2</th>\n",
       "      <td>492475</td>\n",
       "      <td>Belgium</td>\n",
       "      <td>Belgium Jupiler League</td>\n",
       "      <td>2008/2009</td>\n",
       "      <td>2008-08-16</td>\n",
       "      <td>9984</td>\n",
       "      <td>KSV Cercle Brugge</td>\n",
       "      <td>CEB</td>\n",
       "      <td>0</td>\n",
       "      <td>3</td>\n",
       "      <td>8635</td>\n",
       "      <td>RSC Anderlecht</td>\n",
       "      <td>AND</td>\n",
       "      <td>away</td>\n",
       "      <td>-3</td>\n",
       "      <td>3</td>\n",
       "      <td>3</td>\n",
       "      <td>False</td>\n",
       "    </tr>\n",
       "    <tr>\n",
       "      <th>3</th>\n",
       "      <td>492476</td>\n",
       "      <td>Belgium</td>\n",
       "      <td>Belgium Jupiler League</td>\n",
       "      <td>2008/2009</td>\n",
       "      <td>2008-08-17</td>\n",
       "      <td>9991</td>\n",
       "      <td>KAA Gent</td>\n",
       "      <td>GEN</td>\n",
       "      <td>5</td>\n",
       "      <td>0</td>\n",
       "      <td>9998</td>\n",
       "      <td>RAEC Mons</td>\n",
       "      <td>MON</td>\n",
       "      <td>home</td>\n",
       "      <td>5</td>\n",
       "      <td>-5</td>\n",
       "      <td>5</td>\n",
       "      <td>False</td>\n",
       "    </tr>\n",
       "    <tr>\n",
       "      <th>4</th>\n",
       "      <td>492477</td>\n",
       "      <td>Belgium</td>\n",
       "      <td>Belgium Jupiler League</td>\n",
       "      <td>2008/2009</td>\n",
       "      <td>2008-08-16</td>\n",
       "      <td>7947</td>\n",
       "      <td>FCV Dender EH</td>\n",
       "      <td>DEN</td>\n",
       "      <td>1</td>\n",
       "      <td>3</td>\n",
       "      <td>9985</td>\n",
       "      <td>Standard de Liège</td>\n",
       "      <td>STL</td>\n",
       "      <td>away</td>\n",
       "      <td>-2</td>\n",
       "      <td>2</td>\n",
       "      <td>4</td>\n",
       "      <td>False</td>\n",
       "    </tr>\n",
       "  </tbody>\n",
       "</table>\n",
       "</div>"
      ],
      "text/plain": [
       "   match_id  country                  league     season match_date  \\\n",
       "0    492473  Belgium  Belgium Jupiler League  2008/2009 2008-08-17   \n",
       "1    492474  Belgium  Belgium Jupiler League  2008/2009 2008-08-16   \n",
       "2    492475  Belgium  Belgium Jupiler League  2008/2009 2008-08-16   \n",
       "3    492476  Belgium  Belgium Jupiler League  2008/2009 2008-08-17   \n",
       "4    492477  Belgium  Belgium Jupiler League  2008/2009 2008-08-16   \n",
       "\n",
       "   home_team_id     home_team_name home_team_short_name  home_goal  away_goal  \\\n",
       "0          9987           KRC Genk                  GEN          1          1   \n",
       "1         10000   SV Zulte-Waregem                  ZUL          0          0   \n",
       "2          9984  KSV Cercle Brugge                  CEB          0          3   \n",
       "3          9991           KAA Gent                  GEN          5          0   \n",
       "4          7947      FCV Dender EH                  DEN          1          3   \n",
       "\n",
       "   away_team_id     away_team_name away_team_short_name result  \\\n",
       "0          9993       Beerschot AC                  BAC   draw   \n",
       "1          9994   Sporting Lokeren                  LOK   draw   \n",
       "2          8635     RSC Anderlecht                  AND   away   \n",
       "3          9998          RAEC Mons                  MON   home   \n",
       "4          9985  Standard de Liège                  STL   away   \n",
       "\n",
       "   home_goal_difference  away_goal_difference  total_goals  scoreless_draw  \n",
       "0                     0                     0            2           False  \n",
       "1                     0                     0            0            True  \n",
       "2                    -3                     3            3           False  \n",
       "3                     5                    -5            5           False  \n",
       "4                    -2                     2            4           False  "
      ]
     },
     "execution_count": 16,
     "metadata": {},
     "output_type": "execute_result"
    }
   ],
   "source": [
    "df.head()"
   ]
  },
  {
   "cell_type": "markdown",
   "metadata": {},
   "source": [
    "Our data is now clean and has some extra features we can use in our analysis. Let's get started."
   ]
  },
  {
   "cell_type": "markdown",
   "metadata": {},
   "source": [
    "<a id='eda'></a>\n",
    "## Exploratory Data Analysis\n",
    "\n",
    "### Which league scored the most goals per game? "
   ]
  },
  {
   "cell_type": "markdown",
   "metadata": {
    "collapsed": true
   },
   "source": [
    "In order to answer this question, we need to group by `league` and calculate the average total goals per match."
   ]
  },
  {
   "cell_type": "code",
   "execution_count": 17,
   "metadata": {},
   "outputs": [
    {
     "data": {
      "text/plain": [
       "league\n",
       "Netherlands Eredivisie      3.080882\n",
       "Switzerland Super League    2.929677\n",
       "Germany 1. Bundesliga       2.901552\n",
       "Belgium Jupiler League      2.801505\n",
       "Spain LIGA BBVA             2.767105\n",
       "England Premier League      2.710526\n",
       "Scotland Premier League     2.633772\n",
       "Italy Serie A               2.616838\n",
       "Portugal Liga ZON Sagres    2.534600\n",
       "France Ligue 1              2.443092\n",
       "Poland Ekstraklasa          2.425000\n",
       "Name: total_goals, dtype: float64"
      ]
     },
     "execution_count": 17,
     "metadata": {},
     "output_type": "execute_result"
    }
   ],
   "source": [
    "# group data by league and compute average total goals per match\n",
    "# sort in descending order so top league is first in the list\n",
    "gpm_league = df.groupby('league')['total_goals'].mean()\\\n",
    "             .sort_values(ascending=False)\n",
    "gpm_league"
   ]
  },
  {
   "cell_type": "markdown",
   "metadata": {},
   "source": [
    "Wow, looks like the *Eredivisie* is the league we should all be watching! Between 2008 and 2016 the league averaged **over 3 goals per match**. Let's create a graphic so the results are easier to interpret."
   ]
  },
  {
   "cell_type": "code",
   "execution_count": 18,
   "metadata": {},
   "outputs": [
    {
     "data": {
      "image/png": "[encoded data removed]",
      "text/plain": [
       "<Figure size 432x288 with 1 Axes>"
      ]
     },
     "metadata": {
      "needs_background": "light"
     },
     "output_type": "display_data"
    }
   ],
   "source": [
    "# sort values so the league with the best gpm average is on top\n",
    "gpm_league = gpm_league.sort_values()\n",
    "\n",
    "# plot bar chart\n",
    "plt.barh(gpm_league.index, gpm_league);\n",
    "plt.title(\"Goals per Match by League (2008-2016)\");\n",
    "plt.xlabel(\"Goals per Match\");"
   ]
  },
  {
   "cell_type": "markdown",
   "metadata": {},
   "source": [
    "### Has the proportion of scoreless draws been increasing?"
   ]
  },
  {
   "cell_type": "markdown",
   "metadata": {
    "collapsed": true
   },
   "source": [
    "One of the common complaints about football is that many matches are boring and end in scoreless draws. Although it is inevitable that some matches will end 0-0, what proportion actually do? Let's look at the overall percentage and then see how that has changed between 2008 and 2016."
   ]
  },
  {
   "cell_type": "code",
   "execution_count": 19,
   "metadata": {},
   "outputs": [
    {
     "name": "stdout",
     "output_type": "stream",
     "text": [
      "Overall proportion of scoreless draws: 7.61%\n"
     ]
    }
   ],
   "source": [
    "# Compute overall proportion of scoreless draws\n",
    "print(\"Overall proportion of scoreless draws: {0:.2f}%\"\\\n",
    "      .format(100 * df['scoreless_draw'].mean()))"
   ]
  },
  {
   "cell_type": "markdown",
   "metadata": {},
   "source": [
    "Alright, so it looks like about 7% of matches in the main European leagues end in scoreless draws. That means a large majority of matches do see at least one goal! I suppose it all depends on which match(es) you choose to watch on any given weekend.\n",
    "\n",
    "Now, let's see if the proportion has changed at all over the time period of 2008 to 2016."
   ]
  },
  {
   "cell_type": "code",
   "execution_count": 20,
   "metadata": {},
   "outputs": [
    {
     "data": {
      "text/plain": [
       "season\n",
       "2008/2009    0.076969\n",
       "2009/2010    0.082043\n",
       "2010/2011    0.076380\n",
       "2011/2012    0.084472\n",
       "2012/2013    0.074540\n",
       "2013/2014    0.067282\n",
       "2014/2015    0.076391\n",
       "2015/2016    0.070655\n",
       "Name: scoreless_draw, dtype: float64"
      ]
     },
     "execution_count": 20,
     "metadata": {},
     "output_type": "execute_result"
    }
   ],
   "source": [
    "# group by season and compute proportion of scoreless draws\n",
    "# by season\n",
    "scoreless_draws_by_season = df.groupby('season')['scoreless_draw'].mean()\n",
    "scoreless_draws_by_season"
   ]
  },
  {
   "cell_type": "markdown",
   "metadata": {},
   "source": [
    "Alright, this is a lot of numbers, let's see if we can see a trend better in a line plot."
   ]
  },
  {
   "cell_type": "code",
   "execution_count": 21,
   "metadata": {},
   "outputs": [
    {
     "data": {
      "image/png": "[encoded data removed]",
      "text/plain": [
       "<Figure size 720x576 with 1 Axes>"
      ]
     },
     "metadata": {
      "needs_background": "light"
     },
     "output_type": "display_data"
    }
   ],
   "source": [
    "# plot data on a line plot\n",
    "scoreless_draws_by_season.plot(figsize=(10,8));\n",
    "plt.title(\"Proportion of Scoreless Draws\");\n",
    "plt.xlabel(\"Season\");\n",
    "plt.ylabel(\"Proportion\");"
   ]
  },
  {
   "cell_type": "markdown",
   "metadata": {},
   "source": [
    "Although this is only a small number of seasons, it looks like the the proportion is smaller in the latest season when compared to the earliest season in the data. However, **the absolute difference is not very large**, (only about 0.006!). Thus these fluctuations in the proportion of scoreless draws could just be due to random chance and it is most likely the case that the true proportion of scoreless draws has not really dropped. Later, we should test this hypothesis."
   ]
  },
  {
   "cell_type": "markdown",
   "metadata": {},
   "source": [
    "<a id='conclusions'></a>\n",
    "## Conclusions\n",
    "\n",
    "Before we go into what conclusions we were able to draw from this data, let's go over some limitations of it. The data was limited to leagues in Europe, thus any questions we had to pertain only to that region. That is, although the data was sufficient to answer our questions, our answers only pertain to the domain of the European leagues. We should be careful about extrapolating any findings to other leagues around the world. The other limitation to this data is of data quality. Since we did not collect the data ourselves, we are unable to truly determine its quality. Verifying each match score would be impossible, so we have to be satisfied with the quality of the data given.\n",
    "\n",
    "In this workbook, we explored answered a couple of questions concerning the different football leagues across Europe. We discovered that the *Eredivisie* was the highest scoring league, on average, in Europe betweem the 2008/2009 and 2015/2016 seasons. In addition, we saw that the most recent proportion of scoreless draws across Europe was smaller than it was in th 2008/2009 season.\n",
    "\n",
    "Again, we should be careful in extrapolating these findings. For instance, we do not not for sure that the *Eredivisie* is still in fact the highest scoring league in Europe. We can only state that it had the highest goals per match average between 2008 and 2016. Also, although the proportion of scoreless draws has seen a slight decrease since 2008, we cannot definitively say that the true proportion has decreased. These claims needed to handled with more significant statistical tests, which will be done in later notebooks.\n",
    "\n",
    "As always, the work in this notebook has raised even more questions:\n",
    "- Is the true proportion of scoreless draws really changing?\n",
    "- What qualities are associated with a home win, away win or draw?\n",
    "- Can the scoreline of a particular match be predicted with a certain accuracy?\n",
    "\n",
    "We need more data and a different toolkit to answer these questions, but they will be a subject of a different project."
   ]
  }
 ],
 "metadata": {
  "kernelspec": {
   "display_name": "Python 3",
   "language": "python",
   "name": "python3"
  },
  "language_info": {
   "codemirror_mode": {
    "name": "ipython",
    "version": 3
   },
   "file_extension": ".py",
   "mimetype": "text/x-python",
   "name": "python",
   "nbconvert_exporter": "python",
   "pygments_lexer": "ipython3",
   "version": "3.8.5"
  }
 },
 "nbformat": 4,
 "nbformat_minor": 2
}
